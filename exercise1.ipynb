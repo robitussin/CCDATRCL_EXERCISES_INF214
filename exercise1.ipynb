{
  "nbformat": 4,
  "nbformat_minor": 0,
  "metadata": {
    "colab": {
      "provenance": [],
      "authorship_tag": "ABX9TyO20uVCKExfmXAEpQQVS+Ua",
      "include_colab_link": true
    },
    "kernelspec": {
      "name": "python3",
      "display_name": "Python 3"
    },
    "language_info": {
      "name": "python"
    }
  },
  "cells": [
    {
      "cell_type": "markdown",
      "metadata": {
        "id": "view-in-github",
        "colab_type": "text"
      },
      "source": [
        "<a href=\"https://colab.research.google.com/github/robitussin/CCDATRCL_EXERCISES_INF214/blob/main/exercise1.ipynb\" target=\"_parent\"><img src=\"https://colab.research.google.com/assets/colab-badge.svg\" alt=\"Open In Colab\"/></a>"
      ]
    },
    {
      "cell_type": "code",
      "execution_count": 1,
      "metadata": {
        "colab": {
          "base_uri": "https://localhost:8080/"
        },
        "id": "OdbZh6815eUV",
        "outputId": "b0cfb592-ba11-48f2-f2d2-9070b668fafe"
      },
      "outputs": [
        {
          "output_type": "stream",
          "name": "stdout",
          "text": [
            "Elizer\n"
          ]
        }
      ],
      "source": [
        "print(\"Elizer\")"
      ]
    },
    {
      "cell_type": "code",
      "source": [
        "print(\"ponio\")"
      ],
      "metadata": {
        "colab": {
          "base_uri": "https://localhost:8080/"
        },
        "id": "58Ure4rS9GIA",
        "outputId": "4459b78d-59f4-4339-aa5c-5619e426cf61"
      },
      "execution_count": 2,
      "outputs": [
        {
          "output_type": "stream",
          "name": "stdout",
          "text": [
            "ponio\n"
          ]
        }
      ]
    },
    {
      "cell_type": "markdown",
      "source": [],
      "metadata": {
        "id": "yJ17W7m39sGP"
      }
    },
    {
      "cell_type": "markdown",
      "source": [
        "HELLOOOOO GUYS I LOVE NU!!!! HEHEHEHEHHEHEHHEHEHEHE\n"
      ],
      "metadata": {
        "id": "TCOxMS0E9IH3"
      }
    },
    {
      "cell_type": "markdown",
      "source": [
        "<img src=\"nulogo.jpeg\"/>"
      ],
      "metadata": {
        "id": "3LWUghJA9m1Y"
      }
    },
    {
      "cell_type": "code",
      "source": [],
      "metadata": {
        "id": "TB8sKfjk-Pzk"
      },
      "execution_count": null,
      "outputs": []
    },
    {
      "cell_type": "markdown",
      "source": [
        "#This is a header"
      ],
      "metadata": {
        "id": "YZUnQBpB-Sjq"
      }
    },
    {
      "cell_type": "code",
      "source": [],
      "metadata": {
        "id": "HX4au1vy-U8B"
      },
      "execution_count": null,
      "outputs": []
    }
  ]
}